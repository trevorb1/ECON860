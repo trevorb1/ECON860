{
 "cells": [
  {
   "cell_type": "code",
   "execution_count": 63,
   "id": "30548378",
   "metadata": {},
   "outputs": [],
   "source": [
    "import pandas as pd\n",
    "import statsmodels.formula.api as smf\n",
    "import numpy as mp\n",
    "from matplotlib import style\n",
    "from matplotlib import pyplot as plt"
   ]
  },
  {
   "cell_type": "code",
   "execution_count": 5,
   "id": "a6f88934",
   "metadata": {},
   "outputs": [],
   "source": [
    "# Example that I followed\n",
    "# https://matheusfacure.github.io/python-causality-handbook/14-Difference-in-Difference.html"
   ]
  },
  {
   "cell_type": "code",
   "execution_count": 47,
   "id": "0062b0dd",
   "metadata": {},
   "outputs": [],
   "source": [
    "# Read in data for both boston and portland \n",
    "dfBoston = pd.read_csv('BostonData.csv')\n",
    "dfPortland = pd.read_csv('PortlandData.csv')"
   ]
  },
  {
   "cell_type": "code",
   "execution_count": 48,
   "id": "0250fa18",
   "metadata": {},
   "outputs": [],
   "source": [
    "#Group by year and combine dataframes\n",
    "dfBoston = dfBoston.groupby('Year').mean()\n",
    "dfBoston['City']='Boston'\n",
    "dfPortland = dfPortland.groupby('Year').mean()\n",
    "dfPortland['City']='Portland'\n",
    "df_raw = dfBoston.append(dfPortland)\n",
    "df_raw = df_raw.drop(['Week','Average Duration (sec)'], axis=1)"
   ]
  },
  {
   "cell_type": "code",
   "execution_count": 93,
   "id": "0a0afebd",
   "metadata": {},
   "outputs": [
    {
     "data": {
      "text/html": [
       "<div>\n",
       "<style scoped>\n",
       "    .dataframe tbody tr th:only-of-type {\n",
       "        vertical-align: middle;\n",
       "    }\n",
       "\n",
       "    .dataframe tbody tr th {\n",
       "        vertical-align: top;\n",
       "    }\n",
       "\n",
       "    .dataframe thead th {\n",
       "        text-align: right;\n",
       "    }\n",
       "</style>\n",
       "<table border=\"1\" class=\"dataframe\">\n",
       "  <thead>\n",
       "    <tr style=\"text-align: right;\">\n",
       "      <th></th>\n",
       "      <th>Number_Trips</th>\n",
       "      <th>Number_Stations</th>\n",
       "      <th>Number_Bikes</th>\n",
       "      <th>Boston</th>\n",
       "      <th>Portland</th>\n",
       "      <th>Treatment</th>\n",
       "      <th>Trips_Per_Station</th>\n",
       "      <th>Trips_Per_Bike</th>\n",
       "      <th>Bikes_Per_Station</th>\n",
       "    </tr>\n",
       "    <tr>\n",
       "      <th>Year</th>\n",
       "      <th></th>\n",
       "      <th></th>\n",
       "      <th></th>\n",
       "      <th></th>\n",
       "      <th></th>\n",
       "      <th></th>\n",
       "      <th></th>\n",
       "      <th></th>\n",
       "      <th></th>\n",
       "    </tr>\n",
       "  </thead>\n",
       "  <tbody>\n",
       "    <tr>\n",
       "      <th>2016</th>\n",
       "      <td>13238.500000</td>\n",
       "      <td>172.068711</td>\n",
       "      <td>1569.521571</td>\n",
       "      <td>1</td>\n",
       "      <td>0</td>\n",
       "      <td>0</td>\n",
       "      <td>76.937288</td>\n",
       "      <td>8.434736</td>\n",
       "      <td>9.121482</td>\n",
       "    </tr>\n",
       "    <tr>\n",
       "      <th>2017</th>\n",
       "      <td>12238.357143</td>\n",
       "      <td>195.227530</td>\n",
       "      <td>1865.162832</td>\n",
       "      <td>1</td>\n",
       "      <td>0</td>\n",
       "      <td>1</td>\n",
       "      <td>62.687661</td>\n",
       "      <td>6.561549</td>\n",
       "      <td>9.553790</td>\n",
       "    </tr>\n",
       "    <tr>\n",
       "      <th>2018</th>\n",
       "      <td>17373.571429</td>\n",
       "      <td>211.588004</td>\n",
       "      <td>2341.606178</td>\n",
       "      <td>1</td>\n",
       "      <td>0</td>\n",
       "      <td>1</td>\n",
       "      <td>82.110380</td>\n",
       "      <td>7.419510</td>\n",
       "      <td>11.066819</td>\n",
       "    </tr>\n",
       "    <tr>\n",
       "      <th>2019</th>\n",
       "      <td>21388.230769</td>\n",
       "      <td>288.015504</td>\n",
       "      <td>3154.463769</td>\n",
       "      <td>1</td>\n",
       "      <td>0</td>\n",
       "      <td>1</td>\n",
       "      <td>74.260693</td>\n",
       "      <td>6.780306</td>\n",
       "      <td>10.952410</td>\n",
       "    </tr>\n",
       "    <tr>\n",
       "      <th>2016</th>\n",
       "      <td>4487.285714</td>\n",
       "      <td>99.539886</td>\n",
       "      <td>937.289922</td>\n",
       "      <td>0</td>\n",
       "      <td>1</td>\n",
       "      <td>0</td>\n",
       "      <td>45.080278</td>\n",
       "      <td>4.787511</td>\n",
       "      <td>9.416225</td>\n",
       "    </tr>\n",
       "    <tr>\n",
       "      <th>2017</th>\n",
       "      <td>3867.214286</td>\n",
       "      <td>138.707767</td>\n",
       "      <td>998.000000</td>\n",
       "      <td>0</td>\n",
       "      <td>1</td>\n",
       "      <td>1</td>\n",
       "      <td>27.880301</td>\n",
       "      <td>3.874964</td>\n",
       "      <td>7.194983</td>\n",
       "    </tr>\n",
       "    <tr>\n",
       "      <th>2018</th>\n",
       "      <td>3732.000000</td>\n",
       "      <td>177.797825</td>\n",
       "      <td>1015.997907</td>\n",
       "      <td>0</td>\n",
       "      <td>1</td>\n",
       "      <td>1</td>\n",
       "      <td>20.990133</td>\n",
       "      <td>3.673236</td>\n",
       "      <td>5.714344</td>\n",
       "    </tr>\n",
       "    <tr>\n",
       "      <th>2019</th>\n",
       "      <td>2942.461538</td>\n",
       "      <td>199.890094</td>\n",
       "      <td>1038.271140</td>\n",
       "      <td>0</td>\n",
       "      <td>1</td>\n",
       "      <td>1</td>\n",
       "      <td>14.720397</td>\n",
       "      <td>2.834001</td>\n",
       "      <td>5.194210</td>\n",
       "    </tr>\n",
       "  </tbody>\n",
       "</table>\n",
       "</div>"
      ],
      "text/plain": [
       "      Number_Trips  Number_Stations  Number_Bikes  Boston  Portland  \\\n",
       "Year                                                                  \n",
       "2016  13238.500000       172.068711   1569.521571       1         0   \n",
       "2017  12238.357143       195.227530   1865.162832       1         0   \n",
       "2018  17373.571429       211.588004   2341.606178       1         0   \n",
       "2019  21388.230769       288.015504   3154.463769       1         0   \n",
       "2016   4487.285714        99.539886    937.289922       0         1   \n",
       "2017   3867.214286       138.707767    998.000000       0         1   \n",
       "2018   3732.000000       177.797825   1015.997907       0         1   \n",
       "2019   2942.461538       199.890094   1038.271140       0         1   \n",
       "\n",
       "      Treatment  Trips_Per_Station  Trips_Per_Bike  Bikes_Per_Station  \n",
       "Year                                                                   \n",
       "2016          0          76.937288        8.434736           9.121482  \n",
       "2017          1          62.687661        6.561549           9.553790  \n",
       "2018          1          82.110380        7.419510          11.066819  \n",
       "2019          1          74.260693        6.780306          10.952410  \n",
       "2016          0          45.080278        4.787511           9.416225  \n",
       "2017          1          27.880301        3.874964           7.194983  \n",
       "2018          1          20.990133        3.673236           5.714344  \n",
       "2019          1          14.720397        2.834001           5.194210  "
      ]
     },
     "execution_count": 93,
     "metadata": {},
     "output_type": "execute_result"
    }
   ],
   "source": [
    "df = df_raw.copy()\n",
    "df = df.rename(columns = {'Number Trips':'Number_Trips',\n",
    "                          'Number Stations':'Number_Stations',\n",
    "                          'Number Bikes':'Number_Bikes'})\n",
    "# Create Dummy Variables\n",
    "df['Boston'] = 0\n",
    "df['Boston'] = df['Boston'].where(df['City']=='Portland',1)\n",
    "df['Portland'] = 0\n",
    "df['Portland'] = df['Portland'].where(df['City']=='Boston',1)\n",
    "df['Treatment'] = 0\n",
    "df['Treatment'] = df['Treatment'].where(df.index<2017,1)\n",
    "df = df.drop(['City'], axis=1)\n",
    "df['Trips_Per_Station']=df['Number_Trips'] / df['Number_Stations']\n",
    "df['Trips_Per_Bike']=df['Number_Trips'] / df['Number_Bikes']\n",
    "df['Bikes_Per_Station'] = df['Number_Bikes'] / df['Number_Stations']\n",
    "df = df.drop(2015)\n",
    "df"
   ]
  },
  {
   "cell_type": "code",
   "execution_count": 94,
   "id": "826a8850",
   "metadata": {},
   "outputs": [],
   "source": [
    "bos_before = df.loc[(df['Boston']==1) &\n",
    "                    (df['Treatment']==0)].mean()\n",
    "bos_after = df.loc[(df['Boston']==1) &\n",
    "                    (df['Treatment']==1)].mean()\n",
    "bos_before = bos_before.drop(['Boston','Portland','Treatment'])\n",
    "bos_after = bos_after.drop(['Boston','Portland','Treatment'])"
   ]
  },
  {
   "cell_type": "code",
   "execution_count": 95,
   "id": "d101e81d",
   "metadata": {},
   "outputs": [],
   "source": [
    "port_before = df.loc[(df['Portland']==1) &\n",
    "                    (df['Treatment']==0)].mean()\n",
    "port_after = df.loc[(df['Portland']==1) &\n",
    "                    (df['Treatment']==1)].mean()\n",
    "port_before = port_before.drop(['Boston','Portland','Treatment'])\n",
    "port_after = port_after.drop(['Boston','Portland','Treatment'])"
   ]
  },
  {
   "cell_type": "code",
   "execution_count": 97,
   "id": "225f3e00",
   "metadata": {},
   "outputs": [
    {
     "data": {
      "text/plain": [
       "19.965623954960382"
      ]
     },
     "execution_count": 97,
     "metadata": {},
     "output_type": "execute_result"
    }
   ],
   "source": [
    "treat = 'Trips_Per_Station'\n",
    "diff_in_diff = (bos_after[treat] - bos_before[treat]) - (port_after[treat] - port_before[treat])\n",
    "diff_in_diff"
   ]
  },
  {
   "cell_type": "code",
   "execution_count": 98,
   "id": "dabaa034",
   "metadata": {},
   "outputs": [
    {
     "data": {
      "image/png": "[encoded data removed]",
      "text/plain": [
       "<Figure size 720x360 with 1 Axes>"
      ]
     },
     "metadata": {
      "needs_background": "light"
     },
     "output_type": "display_data"
    }
   ],
   "source": [
    "plt.figure(figsize=(10,5))\n",
    "plt.plot(['2016','2019'], [bos_before[treat], bos_after[treat]], label=\"Boston\", lw=2)\n",
    "plt.plot(['2016','2019'], [port_before[treat], port_after[treat]], label=\"Portland\", lw=2)\n",
    "\n",
    "plt.plot(['2016','2019'], [bos_before[treat], bos_after[treat] + (port_after[treat] - port_before[treat])],\n",
    "         label=\"Counterfactual\", lw=2, color=\"C2\", ls=\"-.\")\n",
    "\n",
    "plt.legend();"
   ]
  },
  {
   "cell_type": "code",
   "execution_count": 99,
   "id": "1414f30a",
   "metadata": {},
   "outputs": [
    {
     "name": "stderr",
     "output_type": "stream",
     "text": [
      "/home/trevorb/miniconda3/envs/osemosys/lib/python3.9/site-packages/scipy/stats/stats.py:1603: UserWarning: kurtosistest only valid for n>=20 ... continuing anyway, n=8\n",
      "  warnings.warn(\"kurtosistest only valid for n>=20 ... continuing \"\n"
     ]
    },
    {
     "data": {
      "text/html": [
       "<table class=\"simpletable\">\n",
       "<tr>\n",
       "          <td></td>            <th>coef</th>     <th>std err</th>      <th>t</th>      <th>P>|t|</th>  <th>[0.025</th>    <th>0.975]</th>  \n",
       "</tr>\n",
       "<tr>\n",
       "  <th>Intercept</th>        <td>   45.0803</td> <td>    8.330</td> <td>    5.411</td> <td> 0.006</td> <td>   21.951</td> <td>   68.209</td>\n",
       "</tr>\n",
       "<tr>\n",
       "  <th>Boston</th>           <td>   31.8570</td> <td>   11.781</td> <td>    2.704</td> <td> 0.054</td> <td>   -0.852</td> <td>   64.567</td>\n",
       "</tr>\n",
       "<tr>\n",
       "  <th>Treatment</th>        <td>  -23.8833</td> <td>    9.619</td> <td>   -2.483</td> <td> 0.068</td> <td>  -50.591</td> <td>    2.824</td>\n",
       "</tr>\n",
       "<tr>\n",
       "  <th>Boston:Treatment</th> <td>   19.9656</td> <td>   13.604</td> <td>    1.468</td> <td> 0.216</td> <td>  -17.804</td> <td>   57.735</td>\n",
       "</tr>\n",
       "</table>"
      ],
      "text/plain": [
       "<class 'statsmodels.iolib.table.SimpleTable'>"
      ]
     },
     "execution_count": 99,
     "metadata": {},
     "output_type": "execute_result"
    }
   ],
   "source": [
    "smf.ols(str(treat + ' ~ Boston*Treatment'), data=df).fit().summary().tables[1]"
   ]
  }
 ],
 "metadata": {
  "kernelspec": {
   "display_name": "Python 3",
   "language": "python",
   "name": "python3"
  },
  "language_info": {
   "codemirror_mode": {
    "name": "ipython",
    "version": 3
   },
   "file_extension": ".py",
   "mimetype": "text/x-python",
   "name": "python",
   "nbconvert_exporter": "python",
   "pygments_lexer": "ipython3",
   "version": "3.9.1"
  }
 },
 "nbformat": 4,
 "nbformat_minor": 5
}
